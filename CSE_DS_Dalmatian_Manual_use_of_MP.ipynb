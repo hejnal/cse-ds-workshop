{
  "nbformat": 4,
  "nbformat_minor": 0,
  "metadata": {
    "colab": {
      "name": "CSE DS Dalmatian Manual use of MP.ipynb",
      "provenance": [],
      "collapsed_sections": []
    },
    "kernelspec": {
      "name": "python3",
      "display_name": "Python 3"
    }
  },
  "cells": [
    {
      "cell_type": "markdown",
      "metadata": {
        "id": "odVFqTgCp1kR",
        "colab_type": "text"
      },
      "source": [
        "## A simple call to push some MP hits\n"
      ]
    },
    {
      "cell_type": "code",
      "metadata": {
        "id": "O325qi41o64k",
        "colab_type": "code",
        "outputId": "c9c1c02b-5441-48af-8a58-eeee8d558a64",
        "colab": {
          "base_uri": "https://localhost:8080/",
          "height": 221
        }
      },
      "source": [
        "import http.client, urllib\n",
        "\n",
        "params = urllib.parse.urlencode({\n",
        "    'v': 1,\n",
        "    'tid': 'UA-162612160-1',\n",
        "    'cid': '1690516707.1585859061',\n",
        "    'ni': 1,\n",
        "    't': 'event',\n",
        "    'ec': 'mp_update_hit',\n",
        "    'ea': 'set_ltv',\n",
        "    'cd2': '66666'\n",
        "})\n",
        "\n",
        "connection = http.client.HTTPConnection('www.google-analytics.com')\n",
        "connection.request('POST', '/collect', params)\n",
        "\n",
        "response = connection.getresponse()\n",
        "print('Received response: {}, with status: {}'.format(response.msg, response.status))\n"
      ],
      "execution_count": 1,
      "outputs": [
        {
          "output_type": "stream",
          "text": [
            "Received response: Access-Control-Allow-Origin: *\n",
            "Date: Thu, 02 Apr 2020 20:52:15 GMT\n",
            "Pragma: no-cache\n",
            "Expires: Fri, 01 Jan 1990 00:00:00 GMT\n",
            "Cache-Control: no-cache, no-store, must-revalidate\n",
            "Last-Modified: Sun, 17 May 1998 03:00:00 GMT\n",
            "X-Content-Type-Options: nosniff\n",
            "Content-Type: image/gif\n",
            "Server: Golfe2\n",
            "Content-Length: 35\n",
            "\n",
            ", with status: 200\n"
          ],
          "name": "stdout"
        }
      ]
    }
  ]
}